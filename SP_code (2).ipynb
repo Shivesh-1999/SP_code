{
 "cells": [
  {
   "cell_type": "code",
   "execution_count": 28,
   "id": "77a5a2d3-7cd3-42f7-8600-e5d462e90a51",
   "metadata": {
    "tags": []
   },
   "outputs": [],
   "source": [
    "import numpy as np\n",
    "import math\n",
    "from sympy import symbols, Eq, solve"
   ]
  },
  {
   "cell_type": "code",
   "execution_count": 29,
   "id": "b0b18b67-d7d6-459c-b896-0630b5b7710a",
   "metadata": {},
   "outputs": [
    {
     "name": "stdin",
     "output_type": "stream",
     "text": [
      "Enter the number of rows in a matrix 3\n",
      " 0\n",
      " 0.5\n",
      " 0.5\n",
      " 0.5\n",
      " 0\n",
      " 0.5\n",
      " 0\n",
      " 1\n",
      " 0\n"
     ]
    },
    {
     "name": "stdout",
     "output_type": "stream",
     "text": [
      "[[0.0, 0.5, 0.5], [0.5, 0.0, 0.5], [0.0, 1.0, 0.0]]\n"
     ]
    }
   ],
   "source": [
    "# no of rows are equal to the number of columns.\n",
    "n = int(input(\"Enter the number of rows in a matrix\"))\n",
    "tpm = [[0 for x in range (n)] for y in range(n)]\n",
    "for i in range (n):\n",
    "    for j in range(n):\n",
    "        tpm[i][j]=float(input())\n",
    "print(tpm)"
   ]
  },
  {
   "cell_type": "code",
   "execution_count": 30,
   "id": "e27dac9e-0f2a-4aec-b979-5c70b11d5a3e",
   "metadata": {
    "tags": []
   },
   "outputs": [
    {
     "name": "stdin",
     "output_type": "stream",
     "text": [
      "enter the value of lambda 1\n",
      "enter the value of lambda 2\n",
      "enter the value of lambda 3\n"
     ]
    },
    {
     "name": "stdout",
     "output_type": "stream",
     "text": [
      "[1, 2, 3]\n"
     ]
    }
   ],
   "source": [
    "#take input of lambda\n",
    "lmda=[]\n",
    "for i in range(n):\n",
    "    x=int(input(\"enter the value of lambda\"))\n",
    "    lmda.append(x)\n",
    "print(lmda)"
   ]
  },
  {
   "cell_type": "code",
   "execution_count": 58,
   "id": "91f2b8b9-cdce-4c57-97d4-70fa126b415a",
   "metadata": {},
   "outputs": [
    {
     "name": "stdout",
     "output_type": "stream",
     "text": [
      "[[0. 1. 1.]\n",
      " [2. 0. 2.]\n",
      " [3. 3. 0.]]\n"
     ]
    }
   ],
   "source": [
    "#exponential matrix\n",
    "z_mat=np.zeros((n,n))\n",
    "for i in range(n):\n",
    "    for j in range(n):\n",
    "        if i!=j:    \n",
    "            z_mat[i][j]=lmda[i]\n",
    "        \n",
    "print(z_mat)      \n",
    "            "
   ]
  },
  {
   "cell_type": "code",
   "execution_count": 59,
   "id": "05c85ea4-de93-46a0-829c-cab4e13796bc",
   "metadata": {},
   "outputs": [
    {
     "name": "stdout",
     "output_type": "stream",
     "text": [
      "[[-1.   0.5  0.5]\n",
      " [ 1.  -2.   1. ]\n",
      " [ 0.   3.  -3. ]]\n"
     ]
    }
   ],
   "source": [
    "#generator matrix final\n",
    "g_mat=np.zeros((n,n))\n",
    "for i in range(n):\n",
    "    for j in range(n):\n",
    "        g_mat[i][j]=z_mat[i][j]*tpm[i][j]\n",
    "        \n",
    "for i in range(n):\n",
    "    for j in range(n):\n",
    "        if i==j:\n",
    "            g_mat[i][j]=lmda[i]-2*(lmda[i])\n",
    "print(g_mat)"
   ]
  },
  {
   "cell_type": "code",
   "execution_count": 60,
   "id": "754f9eff-b795-4eeb-949c-b943f53a73b8",
   "metadata": {},
   "outputs": [
    {
     "name": "stdout",
     "output_type": "stream",
     "text": [
      "[-1.0, 1.0, 0.0, 0.5, -2.0, 3.0, 0.5, 1.0, -3.0]\n",
      "{0: [-1.0, 1.0, 0.0], 3: [0.5, -2.0, 3.0], 6: [0.5, 1.0, -3.0]}\n"
     ]
    }
   ],
   "source": [
    "vals=[]\n",
    "a=1\n",
    "for i in range(n):\n",
    "    for j in range(n):\n",
    "        vals.append(g_mat[j][i])\n",
    "print(vals)\n",
    "\n",
    "l={}\n",
    "for i in range(0,3*n,n):\n",
    "    l[i]=vals[i:i+3]\n",
    "print(l)"
   ]
  },
  {
   "cell_type": "code",
   "execution_count": 61,
   "id": "e10e0487-fcac-4ea5-a7dc-b48ce7c9af20",
   "metadata": {},
   "outputs": [
    {
     "name": "stdout",
     "output_type": "stream",
     "text": [
      "[[0.66666667 0.16666667 0.16666667]\n",
      " [0.33333333 0.33333333 0.33333333]\n",
      " [0.         1.         0.        ]]\n"
     ]
    }
   ],
   "source": [
    "#uniformized matrix\n",
    "i=np.identity(n)\n",
    "l_max=(max(lmda))**(-1)\n",
    "\n",
    "h_mat=g_mat*l_max\n",
    "k_mat=i+h_mat\n",
    "print(k_mat)"
   ]
  },
  {
   "cell_type": "code",
   "execution_count": 62,
   "id": "e3d28c6f-9f9e-40f1-b164-b5df0c4df3aa",
   "metadata": {},
   "outputs": [
    {
     "name": "stdout",
     "output_type": "stream",
     "text": [
      "Equation 1:\n",
      "Eq(x + y + z, 1)\n",
      "Equation 2\n",
      "Eq(0.5*x - 2.0*y + 3.0*z, 0)\n",
      "Equation 3\n",
      "Eq(0.5*x + 1.0*y - 3.0*z, 0)\n",
      "Values of 3 unknown variable are as follows:\n",
      "{x: 0.400000000000000, y: 0.400000000000000, z: 0.200000000000000}\n"
     ]
    }
   ],
   "source": [
    "# imported the library sympy\n",
    "# defining symbols used in equations\n",
    "# or unknown variables\n",
    "x, y, z = symbols('x,y,z')\n",
    "\n",
    "# defining equations\n",
    "eq1 = Eq((x+y+z), 1)\n",
    "print(\"Equation 1:\")\n",
    "print(eq1)\n",
    "\n",
    "eq2 = Eq((l[3][0]*x+l[3][1]*y+l[3][2]*z), 0)\n",
    "print(\"Equation 2\")\n",
    "print(eq2)\n",
    "\n",
    "eq3 = Eq((l[6][0]*x+l[6][1]*y+l[6][2]*z), 0)\n",
    "print(\"Equation 3\")\n",
    "print(eq3)\n",
    "\n",
    "# solving the equation and printing the\n",
    "# value of unknown variables\n",
    "print(\"Values of 3 unknown variable are as follows:\")\n",
    "print(solve((eq1, eq2, eq3), (x, y, z)))"
   ]
  },
  {
   "cell_type": "code",
   "execution_count": 63,
   "id": "e08f2b7c-a39c-4b1c-bb63-5e59cc3cf05a",
   "metadata": {},
   "outputs": [
    {
     "name": "stdout",
     "output_type": "stream",
     "text": [
      "[[0.22222222 0.44444444 0.33333333]\n",
      " [0.22222222 0.44444444 0.33333333]\n",
      " [0.22222222 0.44444444 0.33333333]]\n"
     ]
    }
   ],
   "source": [
    "tpm1=np.mat(tpm)\n",
    "pow1=tpm1**36\n",
    "print(pow1)"
   ]
  },
  {
   "cell_type": "code",
   "execution_count": 66,
   "id": "c7ba0029-cec3-476b-bb5f-88a0dfddb39f",
   "metadata": {},
   "outputs": [
    {
     "name": "stdin",
     "output_type": "stream",
     "text": [
      "Enter t value  2\n"
     ]
    },
    {
     "name": "stdout",
     "output_type": "stream",
     "text": [
      "[[1.35335283e-01 2.71828183e+00 2.71828183e+00]\n",
      " [7.38905610e+00 1.83156389e-02 7.38905610e+00]\n",
      " [1.00000000e+00 4.03428793e+02 2.47875218e-03]]\n"
     ]
    }
   ],
   "source": [
    "a_mat=np.zeros((n,n))\n",
    "t=float(input(\"Enter t value \"))\n",
    "for i in range (n):\n",
    "    for j in range (n):\n",
    "        a_mat[i][j]=math.exp(g_mat[i][j]*t)\n",
    "print(a_mat)"
   ]
  },
  {
   "cell_type": "code",
   "execution_count": null,
   "id": "5d2360d2-2e34-4e40-b82a-98398f791905",
   "metadata": {},
   "outputs": [],
   "source": []
  },
  {
   "cell_type": "code",
   "execution_count": null,
   "id": "8c3defe2-23b0-49a0-970b-b224c68150f0",
   "metadata": {},
   "outputs": [],
   "source": []
  }
 ],
 "metadata": {
  "kernelspec": {
   "display_name": "Python 3",
   "language": "python",
   "name": "python3"
  },
  "language_info": {
   "codemirror_mode": {
    "name": "ipython",
    "version": 3
   },
   "file_extension": ".py",
   "mimetype": "text/x-python",
   "name": "python",
   "nbconvert_exporter": "python",
   "pygments_lexer": "ipython3",
   "version": "3.8.8"
  }
 },
 "nbformat": 4,
 "nbformat_minor": 5
}
